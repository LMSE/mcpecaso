{
 "cells": [
  {
   "cell_type": "markdown",
   "metadata": {},
   "source": [
    "# Example for mcPECASO #"
   ]
  },
  {
   "cell_type": "markdown",
   "metadata": {},
   "source": [
    "### Import necessary modules and adjust settings ###"
   ]
  },
  {
   "cell_type": "code",
   "execution_count": null,
   "metadata": {},
   "outputs": [],
   "source": [
    "import mcpecaso as tsdyssco\n",
    "tsdyssco.settings.num_points = 25\n",
    "tsdyssco.settings.time_end = 100\n",
    "tsdyssco.settings.initial_biomass = 0.001\n",
    "tsdyssco.settings.initial_substrate = 100\n",
    "tsdyssco.settings.num_timepoints = 10000\n",
    "tsdyssco.settings.k_m = 5\n",
    "tsdyssco.settings.parallel=True\n",
    "from mcpecaso.core import mcPECASO\n",
    "import cameo\n",
    "from mcpecaso.plotting import multiplot_envelopes,plot_envelope,plot_dyssco_dfba,\\\n",
    "                              multi_two_stage_char_contours,two_stage_char_contour"
   ]
  },
  {
   "cell_type": "markdown",
   "metadata": {},
   "source": [
    "### Setup COBRA models for analysis and obtain production envelopes###"
   ]
  },
  {
   "cell_type": "code",
   "execution_count": null,
   "metadata": {},
   "outputs": [],
   "source": [
    "model = cameo.models.bigg.iJO1366\n",
    "model.reactions.EX_o2_e.knock_out()\n",
    "tsdyssco.settings.k_m = 30\n",
    "pecaso1 = mcPECASO(model=model,biomass_rxn=model.reactions.BIOMASS_Ec_iJO1366_core_53p95M,\n",
    "        substrate_rxn=model.reactions.EX_glc__D_e, target_rxn=model.reactions.EX_ac_e,\n",
    "        condition='Target - Acetate')\n",
    "\n",
    "tsdyssco.settings.k_m = 0\n",
    "pecaso2 = mcPECASO(model=model,biomass_rxn=model.reactions.BIOMASS_Ec_iJO1366_core_53p95M,\n",
    "        substrate_rxn=model.reactions.EX_glc__D_e, target_rxn=model.reactions.EX_val__L_e,\n",
    "        condition='Target - Lactic Acid,constuptake')\n",
    "\n",
    "\n",
    "tsdyssco.settings.k_m = 30\n",
    "pecaso3 = mcPECASO(model=model,biomass_rxn=model.reactions.BIOMASS_Ec_iJO1366_core_53p95M,\n",
    "        substrate_rxn=model.reactions.EX_glc__D_e, target_rxn=model.reactions.EX_val__L_e,\n",
    "        condition='Target - Lactic Acid')"
   ]
  },
  {
   "cell_type": "markdown",
   "metadata": {},
   "source": [
    "### Calculate fermentation characteristics ###"
   ]
  },
  {
   "cell_type": "code",
   "execution_count": null,
   "metadata": {},
   "outputs": [],
   "source": [
    "tsdyssco.settings.objective = 'batch_productivity'\n",
    "pecaso1.calculate_fermentation_characteristics()\n",
    "pecaso2.calculate_fermentation_characteristics()\n",
    "pecaso3.calculate_fermentation_characteristics()\n"
   ]
  },
  {
   "cell_type": "markdown",
   "metadata": {},
   "source": [
    "### Plotting production envelopes for one mcPECASO object ###"
   ]
  },
  {
   "cell_type": "code",
   "execution_count": null,
   "metadata": {},
   "outputs": [],
   "source": [
    "plot_envelope(pecaso1)"
   ]
  },
  {
   "cell_type": "markdown",
   "metadata": {},
   "source": [
    "### Plotting production envelopes for multiple mcPECASO objects ###"
   ]
  },
  {
   "cell_type": "code",
   "execution_count": null,
   "metadata": {
    "scrolled": false
   },
   "outputs": [],
   "source": [
    "multiplot_envelopes([pecaso1, pecaso2, pecaso3])"
   ]
  },
  {
   "cell_type": "markdown",
   "metadata": {},
   "source": [
    "### Characteristic distributions for one mcPECASO objects ###"
   ]
  },
  {
   "cell_type": "code",
   "execution_count": null,
   "metadata": {
    "scrolled": false
   },
   "outputs": [],
   "source": [
    "two_stage_char_contour(pecaso1)"
   ]
  },
  {
   "cell_type": "markdown",
   "metadata": {},
   "source": [
    "### Characteristic distributions for multiple mcPECASO objects ###"
   ]
  },
  {
   "cell_type": "code",
   "execution_count": null,
   "metadata": {
    "scrolled": false
   },
   "outputs": [],
   "source": [
    "multi_two_stage_char_contours([pecaso1, pecaso2, pecaso3])"
   ]
  },
  {
   "cell_type": "markdown",
   "metadata": {},
   "source": [
    "### Tracking species concentrations for mcPECASO objects ###"
   ]
  },
  {
   "cell_type": "code",
   "execution_count": null,
   "metadata": {},
   "outputs": [],
   "source": [
    "plot_dyssco_dfba(pecaso1)"
   ]
  },
  {
   "cell_type": "code",
   "execution_count": null,
   "metadata": {},
   "outputs": [],
   "source": [
    "plot_dyssco_dfba(pecaso2)"
   ]
  },
  {
   "cell_type": "code",
   "execution_count": null,
   "metadata": {},
   "outputs": [],
   "source": [
    "plot_dyssco_dfba(pecaso3)"
   ]
  },
  {
   "cell_type": "code",
   "execution_count": null,
   "metadata": {},
   "outputs": [],
   "source": []
  }
 ],
 "metadata": {
  "kernelspec": {
   "display_name": "Python 3",
   "language": "python",
   "name": "python3"
  },
  "language_info": {
   "codemirror_mode": {
    "name": "ipython",
    "version": 3
   },
   "file_extension": ".py",
   "mimetype": "text/x-python",
   "name": "python",
   "nbconvert_exporter": "python",
   "pygments_lexer": "ipython3",
   "version": "3.7.1"
  }
 },
 "nbformat": 4,
 "nbformat_minor": 2
}