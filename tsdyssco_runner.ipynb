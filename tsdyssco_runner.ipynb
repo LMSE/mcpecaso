{
 "cells": [
  {
   "cell_type": "code",
   "execution_count": null,
   "metadata": {},
   "outputs": [],
   "source": [
    "from core import substrate_dependent_envelopes\n",
    "import cameo\n",
    "\n",
    "input_dict = {}\n",
    "\n",
    "\n",
    "model = cameo.models.bigg.iJO1366\n",
    "model.reactions.EX_co2_e.lower_bound = 0\n",
    "\n",
    "\n",
    "condition_list = ['Constant Uptake Non-Growth Coupled',\n",
    "                  'Reduced Uptake Non-Growth Coupled',\n",
    "                  'Constant Uptake Growth Coupled',\n",
    "                  'Reduced Uptake Growth Coupled']\n",
    "\n",
    "\n",
    "for condition in condition_list:\n",
    "    input_dict[condition]=dict()\n",
    "    input_dict[condition]['model'] = model.copy()\n",
    "    input_dict[condition]['biomass_rxn'] = input_dict[condition]['model'].reactions.BIOMASS_Ec_iJO1366_core_53p95M\n",
    "    input_dict[condition]['substrate_rxn'] = input_dict[condition]['model'].reactions.EX_glc__D_e\n",
    "    input_dict[condition]['target_rxn'] = input_dict[condition]['model'].reactions.EX_etoh_e\n",
    "\n",
    "input_dict[condition_list[0]]['k_m'] = 0\n",
    "input_dict[condition_list[1]]['k_m'] = 30\n",
    "input_dict[condition_list[2]]['k_m'] = 0\n",
    "input_dict[condition_list[3]]['k_m'] = 30\n",
    "\n",
    "#input_dict[condition_list[0]]['model'].reactions.EX_o2_e.knock_out()\n",
    "#input_dict[condition_list[1]]['model'].reactions.EX_o2_e.knock_out()\n",
    "input_dict[condition_list[2]]['model'].reactions.EX_o2_e.knock_out()\n",
    "input_dict[condition_list[3]]['model'].reactions.EX_o2_e.knock_out()\n",
    "\n",
    "\n"
   ]
  },
  {
   "cell_type": "code",
   "execution_count": null,
   "metadata": {},
   "outputs": [],
   "source": [
    "data_dict = substrate_dependent_envelopes.multi_envelope_generator(input_dict,condition_list,\n",
    "                                                                   n_search_points=100,plot_flag=True)\n"
   ]
  },
  {
   "cell_type": "code",
   "execution_count": null,
   "metadata": {},
   "outputs": [],
   "source": []
  }
 ],
 "metadata": {
  "kernelspec": {
   "display_name": "Python 3",
   "language": "python",
   "name": "python3"
  },
  "language_info": {
   "codemirror_mode": {
    "name": "ipython",
    "version": 3
   },
   "file_extension": ".py",
   "mimetype": "text/x-python",
   "name": "python",
   "nbconvert_exporter": "python",
   "pygments_lexer": "ipython3",
   "version": "3.7.1"
  }
 },
 "nbformat": 4,
 "nbformat_minor": 2
}
